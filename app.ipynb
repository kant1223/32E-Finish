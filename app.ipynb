{
 "cells": [
  {
   "cell_type": "code",
   "execution_count": 1,
   "id": "d1bbba4b",
   "metadata": {},
   "outputs": [],
   "source": [
    "from flask import Flask, request\n",
    "from linebot import LineBotApi, WebhookHandler\n",
    "from linebot.models import TextSendMessage   # 載入 TextSendMessage 模組\n",
    "import json\n",
    "\n"
   ]
  },
  {
   "cell_type": "code",
   "execution_count": 2,
   "id": "33e66512",
   "metadata": {},
   "outputs": [],
   "source": [
    "access_token = '8zp872p8zjIBjP89c4dtoPewB239ZuOuA62gIShbHcMuBBvssLb8f2fep9rFmVMGh5TBVgoo55L7S0KDYzNgy0+NGvmieYfx7DwunGMlmKefVPjWo0MPrpS3mMDCoAagqJCHIhbKoTRMjbbhx8BTKwdB04t89/1O/w1cDnyilFU='\n",
    "secret = '575a9bb8ae3a9aa680e0dfb69f5f2750'"
   ]
  },
  {
   "cell_type": "code",
   "execution_count": null,
   "id": "aa2bdf94",
   "metadata": {},
   "outputs": [
    {
     "name": "stdout",
     "output_type": "stream",
     "text": [
      " * Serving Flask app '__main__'\n",
      " * Debug mode: off\n"
     ]
    },
    {
     "name": "stderr",
     "output_type": "stream",
     "text": [
      "WARNING: This is a development server. Do not use it in a production deployment. Use a production WSGI server instead.\n",
      " * Running on http://127.0.0.1:5000\n",
      "Press CTRL+C to quit\n",
      "127.0.0.1 - - [19/Apr/2023 20:15:06] \"POST / HTTP/1.1\" 200 -\n"
     ]
    },
    {
     "name": "stdout",
     "output_type": "stream",
     "text": [
      "{'destination': 'U200055a81780c13d1f2cdd852cc94728', 'events': []}\n",
      "error\n",
      "{'destination': 'U200055a81780c13d1f2cdd852cc94728', 'events': [{'type': 'message', 'message': {'type': 'text', 'id': '18006146633579', 'text': '123'}, 'webhookEventId': '01GYCQ1HJ8ABG6VS1P4Z62C2ZH', 'deliveryContext': {'isRedelivery': False}, 'timestamp': 1681906517069, 'source': {'type': 'user', 'userId': 'Ue142757d53c75e6489b7be63b527979a'}, 'replyToken': '8dd0f5691e6b402f8f009aefad967f87', 'mode': 'active'}]}\n"
     ]
    },
    {
     "name": "stderr",
     "output_type": "stream",
     "text": [
      "127.0.0.1 - - [19/Apr/2023 20:15:18] \"POST / HTTP/1.1\" 200 -\n"
     ]
    },
    {
     "name": "stdout",
     "output_type": "stream",
     "text": [
      "{'destination': 'U200055a81780c13d1f2cdd852cc94728', 'events': [{'type': 'message', 'message': {'type': 'text', 'id': '18006147040266', 'text': '2223'}, 'webhookEventId': '01GYCQ1NR0XEG9XP62161JDFCM', 'deliveryContext': {'isRedelivery': False}, 'timestamp': 1681906521348, 'source': {'type': 'user', 'userId': 'Ue142757d53c75e6489b7be63b527979a'}, 'replyToken': '5b34b26a9a04451a9da7d5b0e678cb70', 'mode': 'active'}]}\n"
     ]
    },
    {
     "name": "stderr",
     "output_type": "stream",
     "text": [
      "127.0.0.1 - - [19/Apr/2023 20:15:22] \"POST / HTTP/1.1\" 200 -\n"
     ]
    }
   ],
   "source": [
    "\n",
    "#from flask_ngrok import run_with_ngrok   # colab 使用，本機環境請刪除\n",
    "\n",
    "\n",
    "app = Flask(__name__)\n",
    "\n",
    "@app.route(\"/\", methods=['POST'])\n",
    "def linebot():\n",
    "    body = request.get_data(as_text=True)\n",
    "    json_data = json.loads(body)\n",
    "    print(json_data)\n",
    "    try:\n",
    "        line_bot_api = LineBotApi(access_token)\n",
    "        handler = WebhookHandler(secret)\n",
    "        signature = request.headers['X-Line-Signature']\n",
    "        handler.handle(body, signature)\n",
    "        tk = json_data['events'][0]['replyToken']         # 取得 reply token\n",
    "        msg = json_data['events'][0]['message']['text']   # 取得使用者發送的訊息\n",
    "        text_message = TextSendMessage(text=msg)          # 設定回傳同樣的訊息\n",
    "        line_bot_api.reply_message(tk,text_message)       # 回傳訊息\n",
    "    except:\n",
    "        print('error')\n",
    "    return 'OK'\n",
    "\n",
    "if __name__ == \"__main__\":\n",
    "    app.run()\n",
    "#    run_with_ngrok(app)\n",
    "#    app.run(host='0.0.0.0', port=5000)\n",
    "\n",
    "#import os\n",
    "#if __name__ == \"__main__\":\n",
    " #   port = int(os.environ.get('PORT', 5000))\n",
    "  #  app.run(host='0.0.0.0', port=port)\n",
    "\n",
    "\n",
    "\n"
   ]
  },
  {
   "cell_type": "code",
   "execution_count": null,
   "id": "c4ccdf03",
   "metadata": {},
   "outputs": [],
   "source": []
  },
  {
   "cell_type": "code",
   "execution_count": null,
   "id": "c3e7231b",
   "metadata": {},
   "outputs": [],
   "source": []
  }
 ],
 "metadata": {
  "kernelspec": {
   "display_name": "Python 3 (ipykernel)",
   "language": "python",
   "name": "python3"
  },
  "language_info": {
   "codemirror_mode": {
    "name": "ipython",
    "version": 3
   },
   "file_extension": ".py",
   "mimetype": "text/x-python",
   "name": "python",
   "nbconvert_exporter": "python",
   "pygments_lexer": "ipython3",
   "version": "3.10.9"
  }
 },
 "nbformat": 4,
 "nbformat_minor": 5
}
